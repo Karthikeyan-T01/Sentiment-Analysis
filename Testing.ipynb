{
 "cells": [
  {
   "cell_type": "code",
   "execution_count": 1,
   "id": "d5ecadd6",
   "metadata": {},
   "outputs": [
    {
     "name": "stdout",
     "output_type": "stream",
     "text": [
      "Requirement already satisfied: tensorflow in e:\\conda1\\lib\\site-packages (2.20.0)\n",
      "Requirement already satisfied: pandas in e:\\conda1\\lib\\site-packages (2.2.2)\n",
      "Requirement already satisfied: numpy in e:\\conda1\\lib\\site-packages (1.26.4)\n",
      "Requirement already satisfied: scikit-learn in e:\\conda1\\lib\\site-packages (1.5.1)\n",
      "Requirement already satisfied: matplotlib in e:\\conda1\\lib\\site-packages (3.9.2)\n",
      "Requirement already satisfied: seaborn in e:\\conda1\\lib\\site-packages (0.13.2)\n",
      "Requirement already satisfied: absl-py>=1.0.0 in e:\\conda1\\lib\\site-packages (from tensorflow) (2.2.2)\n",
      "Requirement already satisfied: astunparse>=1.6.0 in e:\\conda1\\lib\\site-packages (from tensorflow) (1.6.3)\n",
      "Requirement already satisfied: flatbuffers>=24.3.25 in e:\\conda1\\lib\\site-packages (from tensorflow) (25.2.10)\n",
      "Requirement already satisfied: gast!=0.5.0,!=0.5.1,!=0.5.2,>=0.2.1 in e:\\conda1\\lib\\site-packages (from tensorflow) (0.6.0)\n",
      "Requirement already satisfied: google_pasta>=0.1.1 in e:\\conda1\\lib\\site-packages (from tensorflow) (0.2.0)\n",
      "Requirement already satisfied: libclang>=13.0.0 in e:\\conda1\\lib\\site-packages (from tensorflow) (18.1.1)\n",
      "Requirement already satisfied: opt_einsum>=2.3.2 in e:\\conda1\\lib\\site-packages (from tensorflow) (3.4.0)\n",
      "Requirement already satisfied: packaging in e:\\conda1\\lib\\site-packages (from tensorflow) (24.1)\n",
      "Requirement already satisfied: protobuf>=5.28.0 in e:\\conda1\\lib\\site-packages (from tensorflow) (5.29.3)\n",
      "Requirement already satisfied: requests<3,>=2.21.0 in e:\\conda1\\lib\\site-packages (from tensorflow) (2.32.3)\n",
      "Requirement already satisfied: setuptools in e:\\conda1\\lib\\site-packages (from tensorflow) (75.1.0)\n",
      "Requirement already satisfied: six>=1.12.0 in e:\\conda1\\lib\\site-packages (from tensorflow) (1.17.0)\n",
      "Requirement already satisfied: termcolor>=1.1.0 in e:\\conda1\\lib\\site-packages (from tensorflow) (3.0.1)\n",
      "Requirement already satisfied: typing_extensions>=3.6.6 in e:\\conda1\\lib\\site-packages (from tensorflow) (4.12.2)\n",
      "Requirement already satisfied: wrapt>=1.11.0 in e:\\conda1\\lib\\site-packages (from tensorflow) (1.14.1)\n",
      "Requirement already satisfied: grpcio<2.0,>=1.24.3 in e:\\conda1\\lib\\site-packages (from tensorflow) (1.71.0)\n",
      "Requirement already satisfied: tensorboard~=2.20.0 in e:\\conda1\\lib\\site-packages (from tensorflow) (2.20.0)\n",
      "Requirement already satisfied: keras>=3.10.0 in e:\\conda1\\lib\\site-packages (from tensorflow) (3.11.2)\n",
      "Requirement already satisfied: h5py>=3.11.0 in e:\\conda1\\lib\\site-packages (from tensorflow) (3.11.0)\n",
      "Requirement already satisfied: ml_dtypes<1.0.0,>=0.5.1 in e:\\conda1\\lib\\site-packages (from tensorflow) (0.5.1)\n",
      "Requirement already satisfied: python-dateutil>=2.8.2 in e:\\conda1\\lib\\site-packages (from pandas) (2.9.0.post0)\n",
      "Requirement already satisfied: pytz>=2020.1 in e:\\conda1\\lib\\site-packages (from pandas) (2024.1)\n",
      "Requirement already satisfied: tzdata>=2022.7 in e:\\conda1\\lib\\site-packages (from pandas) (2023.3)\n",
      "Requirement already satisfied: scipy>=1.6.0 in e:\\conda1\\lib\\site-packages (from scikit-learn) (1.13.1)\n",
      "Requirement already satisfied: joblib>=1.2.0 in e:\\conda1\\lib\\site-packages (from scikit-learn) (1.4.2)\n",
      "Requirement already satisfied: threadpoolctl>=3.1.0 in e:\\conda1\\lib\\site-packages (from scikit-learn) (3.5.0)\n",
      "Requirement already satisfied: contourpy>=1.0.1 in e:\\conda1\\lib\\site-packages (from matplotlib) (1.2.0)\n",
      "Requirement already satisfied: cycler>=0.10 in e:\\conda1\\lib\\site-packages (from matplotlib) (0.11.0)\n",
      "Requirement already satisfied: fonttools>=4.22.0 in e:\\conda1\\lib\\site-packages (from matplotlib) (4.51.0)\n",
      "Requirement already satisfied: kiwisolver>=1.3.1 in e:\\conda1\\lib\\site-packages (from matplotlib) (1.4.4)\n",
      "Requirement already satisfied: pillow>=8 in e:\\conda1\\lib\\site-packages (from matplotlib) (10.4.0)\n",
      "Requirement already satisfied: pyparsing>=2.3.1 in e:\\conda1\\lib\\site-packages (from matplotlib) (3.1.2)\n",
      "Requirement already satisfied: wheel<1.0,>=0.23.0 in e:\\conda1\\lib\\site-packages (from astunparse>=1.6.0->tensorflow) (0.44.0)\n",
      "Requirement already satisfied: rich in e:\\conda1\\lib\\site-packages (from keras>=3.10.0->tensorflow) (13.7.1)\n",
      "Requirement already satisfied: namex in e:\\conda1\\lib\\site-packages (from keras>=3.10.0->tensorflow) (0.0.8)\n",
      "Requirement already satisfied: optree in e:\\conda1\\lib\\site-packages (from keras>=3.10.0->tensorflow) (0.14.1)\n",
      "Requirement already satisfied: charset-normalizer<4,>=2 in e:\\conda1\\lib\\site-packages (from requests<3,>=2.21.0->tensorflow) (3.4.1)\n",
      "Requirement already satisfied: idna<4,>=2.5 in e:\\conda1\\lib\\site-packages (from requests<3,>=2.21.0->tensorflow) (3.10)\n",
      "Requirement already satisfied: urllib3<3,>=1.21.1 in e:\\conda1\\lib\\site-packages (from requests<3,>=2.21.0->tensorflow) (2.3.0)\n",
      "Requirement already satisfied: certifi>=2017.4.17 in e:\\conda1\\lib\\site-packages (from requests<3,>=2.21.0->tensorflow) (2025.1.31)\n",
      "Requirement already satisfied: markdown>=2.6.8 in e:\\conda1\\lib\\site-packages (from tensorboard~=2.20.0->tensorflow) (3.4.1)\n",
      "Requirement already satisfied: tensorboard-data-server<0.8.0,>=0.7.0 in e:\\conda1\\lib\\site-packages (from tensorboard~=2.20.0->tensorflow) (0.7.2)\n",
      "Requirement already satisfied: werkzeug>=1.0.1 in e:\\conda1\\lib\\site-packages (from tensorboard~=2.20.0->tensorflow) (3.0.3)\n",
      "Requirement already satisfied: MarkupSafe>=2.1.1 in e:\\conda1\\lib\\site-packages (from werkzeug>=1.0.1->tensorboard~=2.20.0->tensorflow) (2.1.3)\n",
      "Requirement already satisfied: markdown-it-py>=2.2.0 in e:\\conda1\\lib\\site-packages (from rich->keras>=3.10.0->tensorflow) (2.2.0)\n",
      "Requirement already satisfied: pygments<3.0.0,>=2.13.0 in e:\\conda1\\lib\\site-packages (from rich->keras>=3.10.0->tensorflow) (2.15.1)\n",
      "Requirement already satisfied: mdurl~=0.1 in e:\\conda1\\lib\\site-packages (from markdown-it-py>=2.2.0->rich->keras>=3.10.0->tensorflow) (0.1.0)\n"
     ]
    }
   ],
   "source": [
    "!pip install tensorflow pandas numpy scikit-learn matplotlib seaborn"
   ]
  },
  {
   "cell_type": "code",
   "execution_count": 2,
   "id": "6bf757e0",
   "metadata": {},
   "outputs": [
    {
     "name": "stdout",
     "output_type": "stream",
     "text": [
      "✓ All libraries imported successfully\n"
     ]
    }
   ],
   "source": [
    "import numpy as np\n",
    "import pandas as pd\n",
    "import tensorflow as tf\n",
    "from tensorflow import keras\n",
    "from tensorflow.keras import layers\n",
    "from tensorflow.keras.preprocessing.sequence import pad_sequences\n",
    "import matplotlib.pyplot as plt\n",
    "import pickle\n",
    "import os\n",
    "import warnings\n",
    "warnings.filterwarnings(\"ignore\")\n",
    "\n",
    "print(\"✓ All libraries imported successfully\")"
   ]
  },
  {
   "cell_type": "code",
   "execution_count": 3,
   "id": "3187d807",
   "metadata": {},
   "outputs": [
    {
     "name": "stdout",
     "output_type": "stream",
     "text": [
      "Configuration set:\n",
      "- Max vocab size: 20000\n",
      "- Max sequence length: 100\n",
      "- Embedding dimension: 100\n",
      "- Batch size: 256\n",
      "- Epochs: 3\n"
     ]
    }
   ],
   "source": [
    "# Configuration\n",
    "max_vocab_size = 20000\n",
    "max_seq_length = 100\n",
    "embedding_dim = 100\n",
    "batch_size = 256\n",
    "epochs = 3\n",
    "\n",
    "print(\"Configuration set:\")\n",
    "print(f\"- Max vocab size: {max_vocab_size}\")\n",
    "print(f\"- Max sequence length: {max_seq_length}\")\n",
    "print(f\"- Embedding dimension: {embedding_dim}\")\n",
    "print(f\"- Batch size: {batch_size}\")\n",
    "print(f\"- Epochs: {epochs}\")"
   ]
  },
  {
   "cell_type": "code",
   "execution_count": null,
   "id": "6541beb1",
   "metadata": {},
   "outputs": [
    {
     "name": "stdout",
     "output_type": "stream",
     "text": [
      "✓ Dataset loaded successfully\n",
      "Shape: (1600000, 6)\n",
      "\n",
      "First 5 rows:\n",
      "   polarity          id                          date     query  \\\n",
      "0         0  1467810369  Mon Apr 06 22:19:45 PDT 2009  NO_QUERY   \n",
      "1         0  1467810672  Mon Apr 06 22:19:49 PDT 2009  NO_QUERY   \n",
      "2         0  1467810917  Mon Apr 06 22:19:53 PDT 2009  NO_QUERY   \n",
      "3         0  1467811184  Mon Apr 06 22:19:57 PDT 2009  NO_QUERY   \n",
      "4         0  1467811193  Mon Apr 06 22:19:57 PDT 2009  NO_QUERY   \n",
      "\n",
      "              user                                               text  \n",
      "0  _TheSpecialOne_  @switchfoot http://twitpic.com/2y1zl - Awww, t...  \n",
      "1    scotthamilton  is upset that he can't update his Facebook by ...  \n",
      "2         mattycus  @Kenichan I dived many times for the ball. Man...  \n",
      "3          ElleCTF    my whole body feels itchy and like its on fire   \n",
      "4           Karoli  @nationwideclass no, it's not behaving at all....  \n"
     ]
    }
   ],
   "source": [
    "# CELL 4: Load Dataset\n",
    "\n",
    "csv_path = \"training.1600000.processed.noemoticon.csv\"\n",
    "\n",
    "if not os.path.exists(csv_path):\n",
    "    print(f\"ERROR: {csv_path} not found!\")\n",
    "    print(\"Download from: http://cs.stanford.edu/people/alecmgo/trainingandtestdata.zip\")\n",
    "    print(\"Extract the file and place it in your notebook directory\")\n",
    "else:\n",
    "    cols = [\"polarity\", \"id\", \"date\", \"query\", \"user\", \"text\"]\n",
    "    df = pd.read_csv(csv_path, encoding=\"ISO-8859-1\", names=cols)\n",
    "    print(f\"✓ Dataset loaded successfully\")\n",
    "    print(f\"Shape: {df.shape}\")\n",
    "    print(f\"\\nFirst 5 rows:\")\n",
    "    print(df.head())"
   ]
  },
  {
   "cell_type": "code",
   "execution_count": 5,
   "id": "b381f4e1",
   "metadata": {},
   "outputs": [
    {
     "name": "stdout",
     "output_type": "stream",
     "text": [
      "Dataset Info:\n",
      "Total rows: 1600000\n",
      "\n",
      "Polarity distribution:\n",
      "polarity\n",
      "0    800000\n",
      "4    800000\n",
      "Name: count, dtype: int64\n",
      "\n",
      "Data types:\n",
      "polarity     int64\n",
      "id           int64\n",
      "date        object\n",
      "query       object\n",
      "user        object\n",
      "text        object\n",
      "dtype: object\n",
      "\n",
      "Sample negative tweet (polarity=0):\n",
      "@switchfoot http://twitpic.com/2y1zl - Awww, that's a bummer.  You shoulda got David Carr of Third Day to do it. ;D\n",
      "\n",
      "Sample positive tweet (polarity=4):\n",
      "I LOVE @Health4UandPets u guys r the best!! \n"
     ]
    }
   ],
   "source": [
    "## CELL 5: Explore Data\n",
    "\n",
    "print(\"Dataset Info:\")\n",
    "print(f\"Total rows: {len(df)}\")\n",
    "print(f\"\\nPolarity distribution:\")\n",
    "print(df['polarity'].value_counts())\n",
    "print(f\"\\nData types:\")\n",
    "print(df.dtypes)\n",
    "print(f\"\\nSample negative tweet (polarity=0):\")\n",
    "print(df[df['polarity'] == 0]['text'].iloc[0])\n",
    "print(f\"\\nSample positive tweet (polarity=4):\")\n",
    "print(df[df['polarity'] == 4]['text'].iloc[0])"
   ]
  },
  {
   "cell_type": "code",
   "execution_count": null,
   "id": "c66beaa2",
   "metadata": {},
   "outputs": [
    {
     "name": "stdout",
     "output_type": "stream",
     "text": [
      "✓ Filtered dataset shape: (1600000, 7)\n",
      "\n",
      "Label distribution:\n",
      "label\n",
      "0    800000\n",
      "1    800000\n",
      "Name: count, dtype: int64\n",
      "\n",
      "Label breakdown:\n",
      "- Negative (0): 800,000\n",
      "- Positive (1): 800,000\n"
     ]
    }
   ],
   "source": [
    "## CELL 6: Filter and Prepare Labels\n",
    "\n",
    "df = df[df.polarity.isin([0, 4])].copy()\n",
    "df[\"label\"] = (df.polarity == 4).astype(int)\n",
    "\n",
    "print(f\"✓ Filtered dataset shape: {df.shape}\")\n",
    "print(f\"\\nLabel distribution:\")\n",
    "print(df['label'].value_counts())\n",
    "print(f\"\\nLabel breakdown:\")\n",
    "print(f\"- Negative (0): {(df['label'] == 0).sum():,}\")\n",
    "print(f\"- Positive (1): {(df['label'] == 1).sum():,}\")"
   ]
  },
  {
   "cell_type": "code",
   "execution_count": 7,
   "id": "208fd245",
   "metadata": {},
   "outputs": [
    {
     "name": "stdout",
     "output_type": "stream",
     "text": [
      "✓ Data split completed\n",
      "Train size: 1,280,000\n",
      "Test size: 320,000\n",
      "\n",
      "Train label distribution:\n",
      "label\n",
      "1    640000\n",
      "0    640000\n",
      "Name: count, dtype: int64\n",
      "\n",
      "Test label distribution:\n",
      "label\n",
      "0    160000\n",
      "1    160000\n",
      "Name: count, dtype: int64\n"
     ]
    }
   ],
   "source": [
    "## CELL 7: Train-Test Split\n",
    "\n",
    "from sklearn.model_selection import train_test_split\n",
    "\n",
    "train_df, test_df = train_test_split(\n",
    "    df, \n",
    "    test_size=0.2, \n",
    "    stratify=df.label, \n",
    "    random_state=42\n",
    ")\n",
    "\n",
    "print(f\"✓ Data split completed\")\n",
    "print(f\"Train size: {len(train_df):,}\")\n",
    "print(f\"Test size: {len(test_df):,}\")\n",
    "print(f\"\\nTrain label distribution:\")\n",
    "print(train_df.label.value_counts())\n",
    "print(f\"\\nTest label distribution:\")\n",
    "print(test_df.label.value_counts())"
   ]
  },
  {
   "cell_type": "code",
   "execution_count": null,
   "id": "e6d935eb",
   "metadata": {},
   "outputs": [
    {
     "name": "stdout",
     "output_type": "stream",
     "text": [
      "✓ Tokenizer created and fitted\n",
      "Unique words in training data: 595,001\n",
      "\n",
      "Sample word index (first 10):\n",
      "  '<OOV>': 1\n",
      "  'i': 2\n",
      "  'to': 3\n",
      "  'the': 4\n",
      "  'a': 5\n",
      "  'my': 6\n",
      "  'and': 7\n",
      "  'you': 8\n",
      "  'is': 9\n",
      "  'it': 10\n"
     ]
    }
   ],
   "source": [
    "## CELL 8: Create Tokenizer\n",
    "\n",
    "# Create tokenizer\n",
    "tokenizer = keras.preprocessing.text.Tokenizer(\n",
    "    num_words=max_vocab_size, \n",
    "    oov_token=\"<OOV>\"\n",
    ")\n",
    "\n",
    "tokenizer.fit_on_texts(train_df.text.tolist())\n",
    "\n",
    "print(f\"✓ Tokenizer created and fitted\")\n",
    "print(f\"Unique words in training data: {len(tokenizer.word_index):,}\")\n",
    "print(f\"\\nSample word index (first 10):\")\n",
    "sample_words = list(tokenizer.word_index.items())[:10]\n",
    "for word, idx in sample_words:\n",
    "    print(f\"  '{word}': {idx}\")\n"
   ]
  },
  {
   "cell_type": "code",
   "execution_count": null,
   "id": "525729f6",
   "metadata": {},
   "outputs": [
    {
     "name": "stdout",
     "output_type": "stream",
     "text": [
      "✓ Preprocessing function created\n",
      "\n",
      "Test preprocessing:\n",
      "Input: ['I love this!', 'This is bad']\n",
      "Output shape: (2, 100)\n",
      "First sequence shape: (100,)\n"
     ]
    }
   ],
   "source": [
    "## CELL 9: Create Preprocessing Function\n",
    "\n",
    "def texts_to_padded(texts, tokenizer, maxlen):\n",
    "    \"\"\"Convert texts to padded sequences\"\"\"\n",
    "    seqs = tokenizer.texts_to_sequences(texts)\n",
    "    padded = keras.preprocessing.sequence.pad_sequences(\n",
    "        seqs, \n",
    "        maxlen=maxlen,\n",
    "        padding='post', \n",
    "        truncating='post'\n",
    "    )\n",
    "    return padded\n",
    "\n",
    "print(\"✓ Preprocessing function created\")\n",
    "\n",
    "test_texts = [\"I love this!\", \"This is bad\"]\n",
    "test_padded = texts_to_padded(test_texts, tokenizer, max_seq_length)\n",
    "print(f\"\\nTest preprocessing:\")\n",
    "print(f\"Input: {test_texts}\")\n",
    "print(f\"Output shape: {test_padded.shape}\")\n",
    "print(f\"First sequence shape: {test_padded[0].shape}\")\n",
    "\n"
   ]
  },
  {
   "cell_type": "code",
   "execution_count": 10,
   "id": "52db5b32",
   "metadata": {},
   "outputs": [
    {
     "name": "stdout",
     "output_type": "stream",
     "text": [
      "Preprocessing training data...\n",
      "Preprocessing test data...\n",
      "✓ Data preprocessing completed\n",
      "\n",
      "X_train shape: (1280000, 100)\n",
      "y_train shape: (1280000,)\n",
      "X_test shape: (320000, 100)\n",
      "y_test shape: (320000,)\n",
      "\n",
      "Memory usage:\n",
      "X_train: 488.28 MB\n",
      "X_test: 122.07 MB\n"
     ]
    }
   ],
   "source": [
    "## CELL 10: Preprocess All Data\n",
    "\n",
    "print(\"Preprocessing training data...\")\n",
    "X_train = texts_to_padded(train_df.text.tolist(), tokenizer, max_seq_length)\n",
    "y_train = train_df.label.values\n",
    "\n",
    "print(\"Preprocessing test data...\")\n",
    "X_test = texts_to_padded(test_df.text.tolist(), tokenizer, max_seq_length)\n",
    "y_test = test_df.label.values\n",
    "\n",
    "print(f\"✓ Data preprocessing completed\")\n",
    "print(f\"\\nX_train shape: {X_train.shape}\")\n",
    "print(f\"y_train shape: {y_train.shape}\")\n",
    "print(f\"X_test shape: {X_test.shape}\")\n",
    "print(f\"y_test shape: {y_test.shape}\")\n",
    "print(f\"\\nMemory usage:\")\n",
    "print(f\"X_train: {X_train.nbytes / (1024**2):.2f} MB\")\n",
    "print(f\"X_test: {X_test.nbytes / (1024**2):.2f} MB\")\n"
   ]
  },
  {
   "cell_type": "code",
   "execution_count": 11,
   "id": "60b89e67",
   "metadata": {},
   "outputs": [
    {
     "name": "stdout",
     "output_type": "stream",
     "text": [
      "✓ Model architecture created\n",
      "\n",
      "Model Summary:\n"
     ]
    },
    {
     "data": {
      "text/html": [
       "<pre style=\"white-space:pre;overflow-x:auto;line-height:normal;font-family:Menlo,'DejaVu Sans Mono',consolas,'Courier New',monospace\"><span style=\"font-weight: bold\">Model: \"sequential\"</span>\n",
       "</pre>\n"
      ],
      "text/plain": [
       "\u001b[1mModel: \"sequential\"\u001b[0m\n"
      ]
     },
     "metadata": {},
     "output_type": "display_data"
    },
    {
     "data": {
      "text/html": [
       "<pre style=\"white-space:pre;overflow-x:auto;line-height:normal;font-family:Menlo,'DejaVu Sans Mono',consolas,'Courier New',monospace\">┏━━━━━━━━━━━━━━━━━━━━━━━━━━━━━━━━━┳━━━━━━━━━━━━━━━━━━━━━━━━┳━━━━━━━━━━━━━━━┓\n",
       "┃<span style=\"font-weight: bold\"> Layer (type)                    </span>┃<span style=\"font-weight: bold\"> Output Shape           </span>┃<span style=\"font-weight: bold\">       Param # </span>┃\n",
       "┡━━━━━━━━━━━━━━━━━━━━━━━━━━━━━━━━━╇━━━━━━━━━━━━━━━━━━━━━━━━╇━━━━━━━━━━━━━━━┩\n",
       "│ embedding (<span style=\"color: #0087ff; text-decoration-color: #0087ff\">Embedding</span>)           │ ?                      │   <span style=\"color: #00af00; text-decoration-color: #00af00\">0</span> (unbuilt) │\n",
       "├─────────────────────────────────┼────────────────────────┼───────────────┤\n",
       "│ bidirectional (<span style=\"color: #0087ff; text-decoration-color: #0087ff\">Bidirectional</span>)   │ ?                      │   <span style=\"color: #00af00; text-decoration-color: #00af00\">0</span> (unbuilt) │\n",
       "├─────────────────────────────────┼────────────────────────┼───────────────┤\n",
       "│ dropout (<span style=\"color: #0087ff; text-decoration-color: #0087ff\">Dropout</span>)               │ ?                      │             <span style=\"color: #00af00; text-decoration-color: #00af00\">0</span> │\n",
       "├─────────────────────────────────┼────────────────────────┼───────────────┤\n",
       "│ bidirectional_1 (<span style=\"color: #0087ff; text-decoration-color: #0087ff\">Bidirectional</span>) │ ?                      │   <span style=\"color: #00af00; text-decoration-color: #00af00\">0</span> (unbuilt) │\n",
       "├─────────────────────────────────┼────────────────────────┼───────────────┤\n",
       "│ dropout_1 (<span style=\"color: #0087ff; text-decoration-color: #0087ff\">Dropout</span>)             │ ?                      │             <span style=\"color: #00af00; text-decoration-color: #00af00\">0</span> │\n",
       "├─────────────────────────────────┼────────────────────────┼───────────────┤\n",
       "│ dense (<span style=\"color: #0087ff; text-decoration-color: #0087ff\">Dense</span>)                   │ ?                      │   <span style=\"color: #00af00; text-decoration-color: #00af00\">0</span> (unbuilt) │\n",
       "├─────────────────────────────────┼────────────────────────┼───────────────┤\n",
       "│ dense_1 (<span style=\"color: #0087ff; text-decoration-color: #0087ff\">Dense</span>)                 │ ?                      │   <span style=\"color: #00af00; text-decoration-color: #00af00\">0</span> (unbuilt) │\n",
       "└─────────────────────────────────┴────────────────────────┴───────────────┘\n",
       "</pre>\n"
      ],
      "text/plain": [
       "┏━━━━━━━━━━━━━━━━━━━━━━━━━━━━━━━━━┳━━━━━━━━━━━━━━━━━━━━━━━━┳━━━━━━━━━━━━━━━┓\n",
       "┃\u001b[1m \u001b[0m\u001b[1mLayer (type)                   \u001b[0m\u001b[1m \u001b[0m┃\u001b[1m \u001b[0m\u001b[1mOutput Shape          \u001b[0m\u001b[1m \u001b[0m┃\u001b[1m \u001b[0m\u001b[1m      Param #\u001b[0m\u001b[1m \u001b[0m┃\n",
       "┡━━━━━━━━━━━━━━━━━━━━━━━━━━━━━━━━━╇━━━━━━━━━━━━━━━━━━━━━━━━╇━━━━━━━━━━━━━━━┩\n",
       "│ embedding (\u001b[38;5;33mEmbedding\u001b[0m)           │ ?                      │   \u001b[38;5;34m0\u001b[0m (unbuilt) │\n",
       "├─────────────────────────────────┼────────────────────────┼───────────────┤\n",
       "│ bidirectional (\u001b[38;5;33mBidirectional\u001b[0m)   │ ?                      │   \u001b[38;5;34m0\u001b[0m (unbuilt) │\n",
       "├─────────────────────────────────┼────────────────────────┼───────────────┤\n",
       "│ dropout (\u001b[38;5;33mDropout\u001b[0m)               │ ?                      │             \u001b[38;5;34m0\u001b[0m │\n",
       "├─────────────────────────────────┼────────────────────────┼───────────────┤\n",
       "│ bidirectional_1 (\u001b[38;5;33mBidirectional\u001b[0m) │ ?                      │   \u001b[38;5;34m0\u001b[0m (unbuilt) │\n",
       "├─────────────────────────────────┼────────────────────────┼───────────────┤\n",
       "│ dropout_1 (\u001b[38;5;33mDropout\u001b[0m)             │ ?                      │             \u001b[38;5;34m0\u001b[0m │\n",
       "├─────────────────────────────────┼────────────────────────┼───────────────┤\n",
       "│ dense (\u001b[38;5;33mDense\u001b[0m)                   │ ?                      │   \u001b[38;5;34m0\u001b[0m (unbuilt) │\n",
       "├─────────────────────────────────┼────────────────────────┼───────────────┤\n",
       "│ dense_1 (\u001b[38;5;33mDense\u001b[0m)                 │ ?                      │   \u001b[38;5;34m0\u001b[0m (unbuilt) │\n",
       "└─────────────────────────────────┴────────────────────────┴───────────────┘\n"
      ]
     },
     "metadata": {},
     "output_type": "display_data"
    },
    {
     "data": {
      "text/html": [
       "<pre style=\"white-space:pre;overflow-x:auto;line-height:normal;font-family:Menlo,'DejaVu Sans Mono',consolas,'Courier New',monospace\"><span style=\"font-weight: bold\"> Total params: </span><span style=\"color: #00af00; text-decoration-color: #00af00\">0</span> (0.00 B)\n",
       "</pre>\n"
      ],
      "text/plain": [
       "\u001b[1m Total params: \u001b[0m\u001b[38;5;34m0\u001b[0m (0.00 B)\n"
      ]
     },
     "metadata": {},
     "output_type": "display_data"
    },
    {
     "data": {
      "text/html": [
       "<pre style=\"white-space:pre;overflow-x:auto;line-height:normal;font-family:Menlo,'DejaVu Sans Mono',consolas,'Courier New',monospace\"><span style=\"font-weight: bold\"> Trainable params: </span><span style=\"color: #00af00; text-decoration-color: #00af00\">0</span> (0.00 B)\n",
       "</pre>\n"
      ],
      "text/plain": [
       "\u001b[1m Trainable params: \u001b[0m\u001b[38;5;34m0\u001b[0m (0.00 B)\n"
      ]
     },
     "metadata": {},
     "output_type": "display_data"
    },
    {
     "data": {
      "text/html": [
       "<pre style=\"white-space:pre;overflow-x:auto;line-height:normal;font-family:Menlo,'DejaVu Sans Mono',consolas,'Courier New',monospace\"><span style=\"font-weight: bold\"> Non-trainable params: </span><span style=\"color: #00af00; text-decoration-color: #00af00\">0</span> (0.00 B)\n",
       "</pre>\n"
      ],
      "text/plain": [
       "\u001b[1m Non-trainable params: \u001b[0m\u001b[38;5;34m0\u001b[0m (0.00 B)\n"
      ]
     },
     "metadata": {},
     "output_type": "display_data"
    }
   ],
   "source": [
    "## CELL 11: Build BiLSTM Model\n",
    "\n",
    "model = keras.Sequential([\n",
    "    layers.Embedding(\n",
    "        input_dim=max_vocab_size, \n",
    "        output_dim=embedding_dim, \n",
    "        input_length=max_seq_length\n",
    "    ),\n",
    "    layers.Bidirectional(layers.LSTM(64, return_sequences=True)),\n",
    "    layers.Dropout(0.5),\n",
    "    layers.Bidirectional(layers.LSTM(32)),\n",
    "    layers.Dropout(0.5),\n",
    "    layers.Dense(32, activation=\"relu\"),\n",
    "    layers.Dense(1, activation=\"sigmoid\")\n",
    "])\n",
    "\n",
    "print(\"✓ Model architecture created\")\n",
    "print(\"\\nModel Summary:\")\n",
    "model.summary()"
   ]
  },
  {
   "cell_type": "code",
   "execution_count": 12,
   "id": "7c145765",
   "metadata": {},
   "outputs": [
    {
     "name": "stdout",
     "output_type": "stream",
     "text": [
      "✓ Model compiled successfully\n",
      "Loss function: binary_crossentropy\n",
      "Optimizer: adam\n",
      "Metrics: accuracy\n"
     ]
    }
   ],
   "source": [
    "## CELL 12: Compile Model\n",
    "\n",
    "model.compile(\n",
    "    loss=\"binary_crossentropy\", \n",
    "    optimizer=\"adam\", \n",
    "    metrics=[\"accuracy\"]\n",
    ")\n",
    "\n",
    "print(\"✓ Model compiled successfully\")\n",
    "print(f\"Loss function: binary_crossentropy\")\n",
    "print(f\"Optimizer: adam\")\n",
    "print(f\"Metrics: accuracy\")"
   ]
  },
  {
   "cell_type": "code",
   "execution_count": 13,
   "id": "98e5acb7",
   "metadata": {},
   "outputs": [
    {
     "name": "stdout",
     "output_type": "stream",
     "text": [
      "============================================================\n",
      "TRAINING MODEL\n",
      "============================================================\n",
      "Total training samples: 1,280,000\n",
      "Batch size: 256\n",
      "Epochs: 3\n",
      "This may take 15-30 minutes. Grab coffee!\n",
      "============================================================\n",
      "Epoch 1/3\n",
      "\u001b[1m4500/4500\u001b[0m \u001b[32m━━━━━━━━━━━━━━━━━━━━\u001b[0m\u001b[37m\u001b[0m \u001b[1m1423s\u001b[0m 315ms/step - accuracy: 0.8054 - loss: 0.4227 - val_accuracy: 0.8216 - val_loss: 0.3921\n",
      "Epoch 2/3\n",
      "\u001b[1m4500/4500\u001b[0m \u001b[32m━━━━━━━━━━━━━━━━━━━━\u001b[0m\u001b[37m\u001b[0m \u001b[1m1095s\u001b[0m 243ms/step - accuracy: 0.8307 - loss: 0.3781 - val_accuracy: 0.8261 - val_loss: 0.3819\n",
      "Epoch 3/3\n",
      "\u001b[1m4500/4500\u001b[0m \u001b[32m━━━━━━━━━━━━━━━━━━━━\u001b[0m\u001b[37m\u001b[0m \u001b[1m1102s\u001b[0m 245ms/step - accuracy: 0.8427 - loss: 0.3555 - val_accuracy: 0.8295 - val_loss: 0.3793\n",
      "\n",
      "✓ Training completed!\n"
     ]
    }
   ],
   "source": [
    "## CELL 13: Train Model (IMPORTANT: This takes 15-30 minutes!)\n",
    "\n",
    "print(\"=\" * 60)\n",
    "print(\"TRAINING MODEL\")\n",
    "print(\"=\" * 60)\n",
    "print(f\"Total training samples: {len(X_train):,}\")\n",
    "print(f\"Batch size: {batch_size}\")\n",
    "print(f\"Epochs: {epochs}\")\n",
    "print(\"This may take 15-30 minutes. Grab coffee!\")\n",
    "print(\"=\" * 60)\n",
    "\n",
    "history = model.fit(\n",
    "    X_train, \n",
    "    y_train,\n",
    "    validation_split=0.1,\n",
    "    epochs=epochs,\n",
    "    batch_size=batch_size,\n",
    "    verbose=1\n",
    ")\n",
    "\n",
    "print(\"\\n✓ Training completed!\")"
   ]
  },
  {
   "cell_type": "code",
   "execution_count": 14,
   "id": "03b91ffd",
   "metadata": {},
   "outputs": [
    {
     "data": {
      "image/png": "[encoded data removed]",
      "text/plain": [
       "<Figure size 1400x500 with 2 Axes>"
      ]
     },
     "metadata": {},
     "output_type": "display_data"
    },
    {
     "name": "stdout",
     "output_type": "stream",
     "text": [
      "Training curves plotted successfully\n"
     ]
    }
   ],
   "source": [
    "## CELL 14: Plot Training History\n",
    "\n",
    "plt.figure(figsize=(14, 5))\n",
    "\n",
    "# Plot accuracy\n",
    "plt.subplot(1, 2, 1)\n",
    "plt.plot(history.history[\"accuracy\"], label=\"Train Accuracy\", linewidth=2.5)\n",
    "plt.plot(history.history[\"val_accuracy\"], label=\"Validation Accuracy\", linewidth=2.5)\n",
    "plt.title(\"Model Accuracy Over Epochs\", fontsize=12, fontweight='bold')\n",
    "plt.xlabel(\"Epoch\")\n",
    "plt.ylabel(\"Accuracy\")\n",
    "plt.legend(fontsize=10)\n",
    "plt.grid(alpha=0.3)\n",
    "\n",
    "# Plot loss\n",
    "plt.subplot(1, 2, 2)\n",
    "plt.plot(history.history[\"loss\"], label=\"Train Loss\", linewidth=2.5)\n",
    "plt.plot(history.history[\"val_loss\"], label=\"Validation Loss\", linewidth=2.5)\n",
    "plt.title(\"Model Loss Over Epochs\", fontsize=12, fontweight='bold')\n",
    "plt.xlabel(\"Epoch\")\n",
    "plt.ylabel(\"Loss\")\n",
    "plt.legend(fontsize=10)\n",
    "plt.grid(alpha=0.3)\n",
    "\n",
    "plt.tight_layout()\n",
    "plt.show()\n",
    "\n",
    "print(\"Training curves plotted successfully\")"
   ]
  },
  {
   "cell_type": "code",
   "execution_count": 15,
   "id": "d62f2821",
   "metadata": {},
   "outputs": [
    {
     "name": "stdout",
     "output_type": "stream",
     "text": [
      "Making predictions on test set (this may take a few minutes)...\n",
      "✓ Predictions completed\n",
      "Predictions shape: (320000,)\n",
      "Sample predictions (first 10): [1 1 1 1 1 1 0 0 1 0]\n",
      "Sample probabilities (first 10): [0.97213596 0.9459864  0.9064859  0.9485092  0.9775718  0.822191\n",
      " 0.4341932  0.32179728 0.9391607  0.31244886]\n"
     ]
    }
   ],
   "source": [
    "## CELL 15: Make Predictions on Test Set\n",
    "\n",
    "print(\"Making predictions on test set (this may take a few minutes)...\")\n",
    "y_prob = model.predict(X_test, verbose=0)\n",
    "y_pred = (y_prob >= 0.5).astype(int).flatten()\n",
    "\n",
    "print(f\"✓ Predictions completed\")\n",
    "print(f\"Predictions shape: {y_pred.shape}\")\n",
    "print(f\"Sample predictions (first 10): {y_pred[:10]}\")\n",
    "print(f\"Sample probabilities (first 10): {y_prob[:10].flatten()}\")\n"
   ]
  },
  {
   "cell_type": "code",
   "execution_count": 16,
   "id": "e009e53d",
   "metadata": {},
   "outputs": [
    {
     "name": "stdout",
     "output_type": "stream",
     "text": [
      "\n",
      "============================================================\n",
      "CLASSIFICATION REPORT\n",
      "============================================================\n",
      "              precision    recall  f1-score   support\n",
      "\n",
      "    Negative     0.8269    0.8332    0.8301    160000\n",
      "    Positive     0.8319    0.8256    0.8288    160000\n",
      "\n",
      "    accuracy                         0.8294    320000\n",
      "   macro avg     0.8294    0.8294    0.8294    320000\n",
      "weighted avg     0.8294    0.8294    0.8294    320000\n",
      "\n"
     ]
    }
   ],
   "source": [
    "## CELL 16: Classification Report\n",
    "\n",
    "from sklearn.metrics import classification_report, confusion_matrix\n",
    "\n",
    "print(\"\\n\" + \"=\" * 60)\n",
    "print(\"CLASSIFICATION REPORT\")\n",
    "print(\"=\" * 60)\n",
    "\n",
    "report = classification_report(\n",
    "    y_test, \n",
    "    y_pred, \n",
    "    target_names=['Negative', 'Positive'],\n",
    "    digits=4\n",
    ")\n",
    "print(report)"
   ]
  },
  {
   "cell_type": "code",
   "execution_count": 17,
   "metadata": {},
   "outputs": [
    {
     "name": "stdout",
     "output_type": "stream",
     "text": [
      "Confusion Matrix:\n",
      "[[133314  26686]\n",
      " [ 27903 132097]]\n"
     ]
    },
    {
     "data": {
      "image/png": "[encoded data removed]",
      "text/plain": [
       "<Figure size 800x600 with 2 Axes>"
      ]
     },
     "metadata": {},
     "output_type": "display_data"
    }
   ],
   "source": [
    "## CELL 17: Confusion Matrix\n",
    "\n",
    "import seaborn as sns\n",
    "\n",
    "cm = confusion_matrix(y_test, y_pred)\n",
    "\n",
    "print(\"Confusion Matrix:\")\n",
    "print(cm)\n",
    "\n",
    "plt.figure(figsize=(8, 6))\n",
    "sns.heatmap(\n",
    "    cm, \n",
    "    annot=True, \n",
    "    fmt='d', \n",
    "    cmap='Blues',\n",
    "    xticklabels=['Negative', 'Positive'],\n",
    "    yticklabels=['Negative', 'Positive'],\n",
    "    cbar_kws={'label': 'Count'},\n",
    "    annot_kws={'size': 14}\n",
    ")\n",
    "plt.title('Confusion Matrix', fontsize=14, fontweight='bold')\n",
    "plt.ylabel('True Label', fontsize=12)\n",
    "plt.xlabel('Predicted Label', fontsize=12)\n",
    "plt.tight_layout()\n",
    "plt.show()"
   ]
  },
  {
   "cell_type": "code",
   "execution_count": 18,
   "id": "898ec37d",
   "metadata": {},
   "outputs": [
    {
     "name": "stdout",
     "output_type": "stream",
     "text": [
      "============================================================\n",
      "PERFORMANCE METRICS\n",
      "============================================================\n",
      "Accuracy:  0.8294 (82.94%)\n",
      "Precision: 0.8319\n",
      "Recall:    0.8256\n",
      "F1-Score:  0.8288\n",
      "ROC-AUC:   0.9105\n",
      "============================================================\n"
     ]
    }
   ],
   "source": [
    "## CELL 18: Additional Metrics\n",
    "\n",
    "from sklearn.metrics import roc_auc_score, f1_score, precision_score, recall_score\n",
    "\n",
    "accuracy = (y_pred == y_test).mean()\n",
    "roc_score = roc_auc_score(y_test, y_prob)\n",
    "f1 = f1_score(y_test, y_pred)\n",
    "precision = precision_score(y_test, y_pred)\n",
    "recall = recall_score(y_test, y_pred)\n",
    "\n",
    "print(\"=\" * 60)\n",
    "print(\"PERFORMANCE METRICS\")\n",
    "print(\"=\" * 60)\n",
    "print(f\"Accuracy:  {accuracy:.4f} ({accuracy*100:.2f}%)\")\n",
    "print(f\"Precision: {precision:.4f}\")\n",
    "print(f\"Recall:    {recall:.4f}\")\n",
    "print(f\"F1-Score:  {f1:.4f}\")\n",
    "print(f\"ROC-AUC:   {roc_score:.4f}\")\n",
    "print(\"=\" * 60)"
   ]
  },
  {
   "cell_type": "code",
   "execution_count": 19,
   "metadata": {},
   "outputs": [
    {
     "name": "stdout",
     "output_type": "stream",
     "text": [
      "✓ Prediction function created\n"
     ]
    }
   ],
   "source": [
    "## CELL 19: Create Prediction Function\n",
    "\n",
    "def predict_sentiment(texts):\n",
    "    \"\"\"Predict sentiment for one or multiple texts\"\"\"\n",
    "    if isinstance(texts, str):\n",
    "        texts = [texts]\n",
    "    \n",
    "    X = texts_to_padded(texts, tokenizer, max_seq_length)\n",
    "    proba = model.predict(X, verbose=0)\n",
    "    \n",
    "    results = []\n",
    "    for text, prob in zip(texts, proba):\n",
    "        sentiment = \"POSITIVE\" if prob[0] >= 0.5 else \"NEGATIVE\"\n",
    "        confidence = max(prob[0], 1 - prob[0])\n",
    "        emoji = \"😊\" if sentiment == \"POSITIVE\" else \"😞\"\n",
    "        \n",
    "        results.append({\n",
    "            \"text\": text,\n",
    "            \"sentiment\": sentiment,\n",
    "            \"confidence\": float(confidence),\n",
    "            \"probability\": float(prob[0]),\n",
    "            \"emoji\": emoji\n",
    "        })\n",
    "    \n",
    "    return results\n",
    "\n",
    "print(\"✓ Prediction function created\")\n"
   ]
  },
  {
   "cell_type": "code",
   "execution_count": 20,
   "id": "0e098327",
   "metadata": {},
   "outputs": [
    {
     "name": "stdout",
     "output_type": "stream",
     "text": [
      "======================================================================\n",
      "SAMPLE PREDICTIONS\n",
      "======================================================================\n",
      "\n",
      "1. Text: I love this product! It's amazing!\n",
      "   Sentiment: 😊 POSITIVE\n",
      "   Confidence: 99.36%\n",
      "   Probability: 0.9936\n",
      "\n",
      "2. Text: This is terrible and broken\n",
      "   Sentiment: 😞 NEGATIVE\n",
      "   Confidence: 99.05%\n",
      "   Probability: 0.0095\n",
      "\n",
      "3. Text: Not bad, but could be better\n",
      "   Sentiment: 😊 POSITIVE\n",
      "   Confidence: 64.70%\n",
      "   Probability: 0.6470\n",
      "\n",
      "4. Text: Worst experience ever\n",
      "   Sentiment: 😞 NEGATIVE\n",
      "   Confidence: 98.51%\n",
      "   Probability: 0.0149\n",
      "\n",
      "5. Text: Absolutely fantastic!\n",
      "   Sentiment: 😊 POSITIVE\n",
      "   Confidence: 96.43%\n",
      "   Probability: 0.9643\n",
      "\n",
      "6. Text: I hate this\n",
      "   Sentiment: 😞 NEGATIVE\n",
      "   Confidence: 97.91%\n",
      "   Probability: 0.0209\n",
      "\n",
      "7. Text: Best purchase I've made\n",
      "   Sentiment: 😊 POSITIVE\n",
      "   Confidence: 96.47%\n",
      "   Probability: 0.9647\n",
      "\n",
      "8. Text: Disappointed with quality\n",
      "   Sentiment: 😞 NEGATIVE\n",
      "   Confidence: 99.46%\n",
      "   Probability: 0.0054\n",
      "\n",
      "======================================================================\n"
     ]
    }
   ],
   "source": [
    "## CELL 20: Test with Sample Texts\n",
    "\n",
    "sample_texts = [\n",
    "    \"I love this product! It's amazing!\",\n",
    "    \"This is terrible and broken\",\n",
    "    \"Not bad, but could be better\",\n",
    "    \"Worst experience ever\",\n",
    "    \"Absolutely fantastic!\",\n",
    "    \"I hate this\",\n",
    "    \"Best purchase I've made\",\n",
    "    \"Disappointed with quality\"\n",
    "]\n",
    "\n",
    "print(\"=\" * 70)\n",
    "print(\"SAMPLE PREDICTIONS\")\n",
    "print(\"=\" * 70)\n",
    "\n",
    "results = predict_sentiment(sample_texts)\n",
    "for i, result in enumerate(results, 1):\n",
    "    print(f\"\\n{i}. Text: {result['text']}\")\n",
    "    print(f\"   Sentiment: {result['emoji']} {result['sentiment']}\")\n",
    "    print(f\"   Confidence: {result['confidence']:.2%}\")\n",
    "    print(f\"   Probability: {result['probability']:.4f}\")\n",
    "\n",
    "print(\"\\n\" + \"=\" * 70)"
   ]
  },
  {
   "cell_type": "code",
   "execution_count": null,
   "id": "963b4022",
   "metadata": {},
   "outputs": [
    {
     "name": "stdout",
     "output_type": "stream",
     "text": [
      "✓ Models directory created: c:\\Users\\ASUS\\python test\\int_pro\\Testing\\models\n"
     ]
    }
   ],
   "source": [
    "## CELL 21: Create Models Directory\n",
    "\n",
    "models_dir = \"./models\"\n",
    "os.makedirs(models_dir, exist_ok=True)\n",
    "\n",
    "print(f\"✓ Models directory created: {os.path.abspath(models_dir)}\")\n"
   ]
  },
  {
   "cell_type": "code",
   "execution_count": 22,
   "id": "2c8677bc",
   "metadata": {},
   "outputs": [
    {
     "name": "stdout",
     "output_type": "stream",
     "text": [
      "✓ Model saved successfully\n",
      "Location: c:\\Users\\ASUS\\python test\\int_pro\\Testing\\models\\sentiment_model.keras\n",
      "File size: 24.41 MB\n"
     ]
    }
   ],
   "source": [
    "## CELL 22: Save Model\n",
    "\n",
    "model_path = os.path.join(models_dir, \"sentiment_model.keras\")\n",
    "model.save(model_path)\n",
    "\n",
    "print(f\"✓ Model saved successfully\")\n",
    "print(f\"Location: {os.path.abspath(model_path)}\")\n",
    "print(f\"File size: {os.path.getsize(model_path) / (1024**2):.2f} MB\")"
   ]
  },
  {
   "cell_type": "code",
   "execution_count": 23,
   "id": "25a8db93",
   "metadata": {},
   "outputs": [
    {
     "name": "stdout",
     "output_type": "stream",
     "text": [
      "✓ Tokenizer saved successfully\n",
      "Location: c:\\Users\\ASUS\\python test\\int_pro\\Testing\\models\\tokenizer.pkl\n",
      "File size: 27316.05 KB\n"
     ]
    }
   ],
   "source": [
    "## CELL 23: Save Tokenizer\n",
    "\n",
    "tokenizer_path = os.path.join(models_dir, \"tokenizer.pkl\")\n",
    "with open(tokenizer_path, 'wb') as f:\n",
    "    pickle.dump(tokenizer, f)\n",
    "\n",
    "print(f\"✓ Tokenizer saved successfully\")\n",
    "print(f\"Location: {os.path.abspath(tokenizer_path)}\")\n",
    "print(f\"File size: {os.path.getsize(tokenizer_path) / 1024:.2f} KB\")"
   ]
  },
  {
   "cell_type": "code",
   "execution_count": 24,
   "metadata": {},
   "outputs": [
    {
     "name": "stdout",
     "output_type": "stream",
     "text": [
      "✓ Configuration saved successfully\n",
      "Location: c:\\Users\\ASUS\\python test\\int_pro\\Testing\\models\\config.pkl\n",
      "\n",
      "Config contents:\n",
      "  max_vocab_size: 20000\n",
      "  max_seq_length: 100\n",
      "  embedding_dim: 100\n",
      "  model_version: 1.0\n",
      "  dataset: Sentiment140\n",
      "  epochs_trained: 3\n",
      "  test_accuracy: 0.829409375\n",
      "  roc_auc_score: 0.9105045720507812\n"
     ]
    }
   ],
   "source": [
    "## CELL 24: Save Configuration\n",
    "\n",
    "config = {\n",
    "    \"max_vocab_size\": max_vocab_size,\n",
    "    \"max_seq_length\": max_seq_length,\n",
    "    \"embedding_dim\": embedding_dim,\n",
    "    \"model_version\": \"1.0\",\n",
    "    \"dataset\": \"Sentiment140\",\n",
    "    \"epochs_trained\": epochs,\n",
    "    \"test_accuracy\": float(accuracy),\n",
    "    \"roc_auc_score\": float(roc_score)\n",
    "}\n",
    "\n",
    "config_path = os.path.join(models_dir, \"config.pkl\")\n",
    "with open(config_path, 'wb') as f:\n",
    "    pickle.dump(config, f)\n",
    "\n",
    "print(f\"✓ Configuration saved successfully\")\n",
    "print(f\"Location: {os.path.abspath(config_path)}\")\n",
    "print(f\"\\nConfig contents:\")\n",
    "for key, value in config.items():\n",
    "    print(f\"  {key}: {value}\")"
   ]
  },
  {
   "cell_type": "code",
   "execution_count": 25,
   "id": "dca8d1a2",
   "metadata": {},
   "outputs": [
    {
     "name": "stdout",
     "output_type": "stream",
     "text": [
      "============================================================\n",
      "VERIFICATION - All Files Saved\n",
      "============================================================\n",
      "✓ Model        (sentiment_model.keras    ) - 25000.09 KB\n",
      "✓ Tokenizer    (tokenizer.pkl            ) - 27316.05 KB\n",
      "✓ Configuration (config.pkl               ) - 0.18 KB\n",
      "============================================================\n",
      "\n",
      "✓ ALL FILES SAVED SUCCESSFULLY!\n",
      "Ready to use with Streamlit app!\n"
     ]
    }
   ],
   "source": [
    "## CELL 25: Verify All Files\n",
    "\n",
    "print(\"=\" * 60)\n",
    "print(\"VERIFICATION - All Files Saved\")\n",
    "print(\"=\" * 60)\n",
    "\n",
    "files_to_check = [\n",
    "    (\"sentiment_model.keras\", \"Model\"),\n",
    "    (\"tokenizer.pkl\", \"Tokenizer\"),\n",
    "    (\"config.pkl\", \"Configuration\")\n",
    "]\n",
    "\n",
    "all_exist = True\n",
    "for filename, description in files_to_check:\n",
    "    filepath = os.path.join(models_dir, filename)\n",
    "    exists = os.path.exists(filepath)\n",
    "    status = \"✓\" if exists else \"✗\"\n",
    "    size = f\"{os.path.getsize(filepath) / 1024:.2f} KB\" if exists else \"N/A\"\n",
    "    print(f\"{status} {description:12} ({filename:25}) - {size}\")\n",
    "    if not exists:\n",
    "        all_exist = False\n",
    "\n",
    "print(\"=\" * 60)\n",
    "\n",
    "if all_exist:\n",
    "    print(\"\\n✓ ALL FILES SAVED SUCCESSFULLY!\")\n",
    "    print(\"Ready to use with Streamlit app!\")\n",
    "else:\n",
    "    print(\"\\n✗ Some files are missing. Please check above.\")"
   ]
  },
  {
   "cell_type": "code",
   "execution_count": null,
   "id": "c5452c3f",
   "metadata": {},
   "outputs": [
    {
     "name": "stdout",
     "output_type": "stream",
     "text": [
      "Testing model loading...\n",
      "ℹ No previous model in memory\n",
      "✓ All files loaded successfully!\n",
      "\n",
      "Loaded config:\n",
      "  max_vocab_size: 20000\n",
      "  max_seq_length: 100\n",
      "  embedding_dim: 100\n",
      "  model_version: 1.0\n",
      "  dataset: Sentiment140\n",
      "  epochs_trained: 3\n",
      "  test_accuracy: 0.829409375\n",
      "  roc_auc_score: 0.9105045720507812\n",
      "\n",
      "✓ Test prediction successful:\n",
      "  Text: I love this!\n",
      "  Sentiment: 😊 POSITIVE\n",
      "  Confidence: 95.59%\n"
     ]
    }
   ],
   "source": [
    "## CELL 26: Load and Test \n",
    "\n",
    "print(\"Testing model loading...\")\n",
    "\n",
    "try:\n",
    "    del model\n",
    "    print(\"✓ Previous model cleared from memory\")\n",
    "except NameError:\n",
    "    print(\"ℹ No previous model in memory\")\n",
    "\n",
    "# Reload model\n",
    "loaded_model = tf.keras.models.load_model(\n",
    "    os.path.join(models_dir, \"sentiment_model.keras\")\n",
    ")\n",
    "\n",
    "# Load tokenizer\n",
    "with open(os.path.join(models_dir, \"tokenizer.pkl\"), 'rb') as f:\n",
    "    loaded_tokenizer = pickle.load(f)\n",
    "\n",
    "# Load config\n",
    "with open(os.path.join(models_dir, \"config.pkl\"), 'rb') as f:\n",
    "    loaded_config = pickle.load(f)\n",
    "\n",
    "print(\"✓ All files loaded successfully!\")\n",
    "print(f\"\\nLoaded config:\")\n",
    "for key, value in loaded_config.items():\n",
    "    print(f\"  {key}: {value}\")\n",
    "\n",
    "# Create a test prediction function using loaded model and tokenizer\n",
    "def test_predict(texts):\n",
    "    \"\"\"Test prediction with loaded model\"\"\"\n",
    "    if isinstance(texts, str):\n",
    "        texts = [texts]\n",
    "    \n",
    "    X = texts_to_padded(texts, loaded_tokenizer, loaded_config['max_seq_length'])\n",
    "    proba = loaded_model.predict(X, verbose=0)\n",
    "    \n",
    "    results = []\n",
    "    for text, prob in zip(texts, proba):\n",
    "        sentiment = \"POSITIVE\" if prob[0] >= 0.5 else \"NEGATIVE\"\n",
    "        confidence = max(prob[0], 1 - prob[0])\n",
    "        emoji = \"😊\" if sentiment == \"POSITIVE\" else \"😞\"\n",
    "        \n",
    "        results.append({\n",
    "            \"text\": text,\n",
    "            \"sentiment\": sentiment,\n",
    "            \"confidence\": float(confidence),\n",
    "            \"probability\": float(prob[0]),\n",
    "            \"emoji\": emoji\n",
    "        })\n",
    "    \n",
    "    return results\n",
    "\n",
    "# Test prediction with loaded model\n",
    "test_results = test_predict([\"I love this!\"])\n",
    "print(f\"\\n✓ Test prediction successful:\")\n",
    "for result in test_results:\n",
    "    print(f\"  Text: {result['text']}\")\n",
    "    print(f\"  Sentiment: {result['emoji']} {result['sentiment']}\")\n",
    "    print(f\"  Confidence: {result['confidence']:.2%}\")"
   ]
  }
 ],
 "metadata": {
  "kernelspec": {
   "display_name": "base",
   "language": "python",
   "name": "python3"
  },
  "language_info": {
   "codemirror_mode": {
    "name": "ipython",
    "version": 3
   },
   "file_extension": ".py",
   "mimetype": "text/x-python",
   "name": "python",
   "nbconvert_exporter": "python",
   "pygments_lexer": "ipython3",
   "version": "3.12.7"
  }
 },
 "nbformat": 4,
 "nbformat_minor": 5
}
